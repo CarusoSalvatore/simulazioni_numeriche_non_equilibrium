{
 "cells": [
  {
   "cell_type": "code",
   "execution_count": 1,
   "id": "d2896c26",
   "metadata": {},
   "outputs": [],
   "source": [
    "import numpy as np\n",
    "import random \n",
    "import matplotlib.pyplot as plt\n",
    "from mpl_toolkits.mplot3d import Axes3D"
   ]
  },
  {
   "cell_type": "code",
   "execution_count": 2,
   "id": "f1e130c2",
   "metadata": {},
   "outputs": [],
   "source": [
    "# parametri fisici oscillatore\n",
    "m = 1.\n",
    "omega = 1.\n",
    "#k_B = 1.38065156*10**(-23)\n",
    "k_B = 1.\n",
    "T = 10\n",
    "r = 0.01 #0.05\n",
    "beta = 1/(k_B*T)"
   ]
  },
  {
   "cell_type": "code",
   "execution_count": 3,
   "id": "4603bc3f",
   "metadata": {},
   "outputs": [],
   "source": [
    "# campo vettoriale della dinamica\n",
    "\n",
    "#def forza(q):\n",
    "#    return -m*(omega**2)*q\n",
    "\n",
    "def forza(q):\n",
    "    return -m*(omega**2)*q - r*q**3"
   ]
  },
  {
   "cell_type": "code",
   "execution_count": 4,
   "id": "29ee13d9",
   "metadata": {},
   "outputs": [],
   "source": [
    "# definisco lo step temporale\n",
    "h = 0.01\n",
    "\n",
    "# definisco le costanti per l'algoritmo di yoshida\n",
    "denominatore = 2-2**(1/3)\n",
    "\n",
    "w_0 = -(2**(1/3))/denominatore\n",
    "w_1 = 1/denominatore\n",
    "\n",
    "c_1 = w_1/2\n",
    "c_2 = (w_0 + w_1)/2\n",
    "c_3 = c_2\n",
    "c_4 = c_1\n",
    "\n",
    "d_1 = w_1\n",
    "d_2 = w_0\n",
    "d_3 = w_1"
   ]
  },
  {
   "cell_type": "code",
   "execution_count": 5,
   "id": "49ff64f0",
   "metadata": {},
   "outputs": [],
   "source": [
    "# yoshida-4\n",
    "def yoshida_4(q, p):\n",
    "\n",
    "    q_temp_1 = q + c_1*p/m*h\n",
    "    p_temp_1 = p + d_1*forza(q_temp_1)*h\n",
    "\n",
    "    q_temp_2 = q_temp_1 + c_2*p_temp_1/m*h\n",
    "    p_temp_2 = p_temp_1 + d_2*forza(q_temp_2)*h\n",
    "\n",
    "    q_temp_3 = q_temp_2 + c_3*p_temp_2/m*h\n",
    "    p_temp_3 = p_temp_2 + d_3*forza(q_temp_3)/m*h\n",
    "\n",
    "    q_evoluto = q_temp_3 + c_4*p_temp_3/m*h\n",
    "    p_evoluto = p_temp_3\n",
    "\n",
    "    return q_evoluto, p_evoluto"
   ]
  },
  {
   "cell_type": "code",
   "execution_count": null,
   "id": "23266281",
   "metadata": {},
   "outputs": [],
   "source": []
  },
  {
   "cell_type": "code",
   "execution_count": 6,
   "id": "b667c611",
   "metadata": {},
   "outputs": [],
   "source": [
    "# Definizione della distribuzione di Gibbs\n",
    "def gibbs_distribution(q, p):\n",
    "    return np.exp(-beta*((p**2)/(2*m) + (m*omega**2)*(q**2)/2))\n",
    "\n",
    "def gibbs_distribution_nonlinear(q, p):\n",
    "    return np.exp(-beta*((p**2)/(2*m) + (m*omega**2)*(q**2)/2 + r*(q**4)/4))"
   ]
  },
  {
   "cell_type": "code",
   "execution_count": 7,
   "id": "4013d9cd",
   "metadata": {},
   "outputs": [],
   "source": [
    "# Definizione della proposta di transizione (scelta semplice per dimostrazione)\n",
    "def proposal(x, y):\n",
    "    x_new = x + np.random.normal()\n",
    "    y_new = y + np.random.normal()\n",
    "    return x_new, y_new"
   ]
  },
  {
   "cell_type": "code",
   "execution_count": 8,
   "id": "15fafefb",
   "metadata": {},
   "outputs": [],
   "source": [
    "# Parametri dell'algoritmo di campionamento\n",
    "num_samples = 50\n",
    "burn_in = 50"
   ]
  },
  {
   "cell_type": "code",
   "execution_count": 9,
   "id": "51427e42",
   "metadata": {},
   "outputs": [],
   "source": [
    "# Inizializzazione campionamento\n",
    "current_q, current_p = 0.0, 0.0\n",
    "samples = []"
   ]
  },
  {
   "cell_type": "code",
   "execution_count": 10,
   "id": "15094550",
   "metadata": {},
   "outputs": [],
   "source": [
    "# Ciclo di campionamento delle q e delle p\n",
    "for _ in range(num_samples + burn_in):\n",
    "    proposed_q, proposed_p = proposal(current_q, current_p)\n",
    "    \n",
    "    acceptance_ratio = min(1, gibbs_distribution_nonlinear(proposed_q, proposed_p) / gibbs_distribution_nonlinear(current_q, current_p))\n",
    "    \n",
    "    if np.random.uniform() < acceptance_ratio:\n",
    "        current_q, current_p = proposed_q, proposed_p\n",
    "    \n",
    "    if _ >= burn_in:\n",
    "        samples.append((current_q, current_p))"
   ]
  },
  {
   "cell_type": "code",
   "execution_count": 11,
   "id": "50f97e01",
   "metadata": {},
   "outputs": [],
   "source": [
    "# Estrazione dei campioni di x e y\n",
    "sampled_q = [sample[0] for sample in samples]\n",
    "sampled_p = [sample[1] for sample in samples]\n",
    "\n",
    "sampled_q = np.array(sampled_q) \n",
    "sampled_p = np.array(sampled_p) "
   ]
  },
  {
   "cell_type": "code",
   "execution_count": 12,
   "id": "3f7d4d31",
   "metadata": {},
   "outputs": [
    {
     "data": {
      "image/png": "[encoded data removed]",
      "text/plain": [
       "<Figure size 640x480 with 1 Axes>"
      ]
     },
     "metadata": {},
     "output_type": "display_data"
    }
   ],
   "source": [
    "# Visualizzazione dei risultati\n",
    "plt.scatter(sampled_q, sampled_p, marker='.')\n",
    "plt.xlabel('q')\n",
    "plt.ylabel('p')\n",
    "plt.title('Campionamento della distribuzione di Gibbs tramite Metropolis-Hastings')\n",
    "plt.show()"
   ]
  },
  {
   "cell_type": "code",
   "execution_count": 13,
   "id": "a14f0049",
   "metadata": {},
   "outputs": [
    {
     "data": {
      "text/plain": [
       "True"
      ]
     },
     "execution_count": 13,
     "metadata": {},
     "output_type": "execute_result"
    }
   ],
   "source": [
    "len(sampled_p) == len(sampled_q)"
   ]
  },
  {
   "cell_type": "code",
   "execution_count": 14,
   "id": "d9ce96a7",
   "metadata": {},
   "outputs": [
    {
     "data": {
      "text/plain": [
       "26.20122512350562"
      ]
     },
     "execution_count": 14,
     "metadata": {},
     "output_type": "execute_result"
    }
   ],
   "source": [
    "np.mean(sampled_p*sampled_p/m)"
   ]
  },
  {
   "cell_type": "code",
   "execution_count": 15,
   "id": "ef924eaf",
   "metadata": {},
   "outputs": [
    {
     "data": {
      "text/plain": [
       "15.35856641623266"
      ]
     },
     "execution_count": 15,
     "metadata": {},
     "output_type": "execute_result"
    }
   ],
   "source": [
    "np.mean((m*omega*omega)*sampled_q*sampled_q)"
   ]
  },
  {
   "cell_type": "code",
   "execution_count": 16,
   "id": "4ba137c1",
   "metadata": {},
   "outputs": [
    {
     "data": {
      "text/plain": [
       "19.96351039922568"
      ]
     },
     "execution_count": 16,
     "metadata": {},
     "output_type": "execute_result"
    }
   ],
   "source": [
    "np.mean((m*omega*omega)*sampled_q*sampled_q + r*sampled_q*sampled_q*sampled_q*sampled_q)"
   ]
  },
  {
   "cell_type": "code",
   "execution_count": 17,
   "id": "6999650e",
   "metadata": {},
   "outputs": [
    {
     "data": {
      "image/png": "[encoded data removed]",
      "text/plain": [
       "<Figure size 640x480 with 1 Axes>"
      ]
     },
     "metadata": {},
     "output_type": "display_data"
    }
   ],
   "source": [
    "# Crea l'istogramma\n",
    "plt.hist(sampled_q, bins=20, density=True, alpha=0.7, color='blue')  # `bins` definisce il numero di bin nell'istogramma\n",
    "\n",
    "# Aggiungi etichette e titolo\n",
    "plt.xlabel('Valori $q$')\n",
    "plt.ylabel('Frequenza relativa')\n",
    "plt.title('Istogramma dei Valori di $q$')\n",
    "\n",
    "# Mostra il plot\n",
    "plt.show()"
   ]
  },
  {
   "cell_type": "code",
   "execution_count": 18,
   "id": "72dde5e0",
   "metadata": {},
   "outputs": [
    {
     "data": {
      "image/png": "[encoded data removed]",
      "text/plain": [
       "<Figure size 640x480 with 1 Axes>"
      ]
     },
     "metadata": {},
     "output_type": "display_data"
    }
   ],
   "source": [
    "# Crea l'istogramma\n",
    "plt.hist(sampled_p, bins=20, density=True, alpha=0.7, color='blue')  # `bins` definisce il numero di bin nell'istogramma\n",
    "\n",
    "# Aggiungi etichette e titolo\n",
    "plt.xlabel('Valori $p$')\n",
    "plt.ylabel('Frequenza relativa')\n",
    "plt.title('Istogramma dei Valori di $p$')\n",
    "\n",
    "# Mostra il plot\n",
    "plt.show()"
   ]
  },
  {
   "cell_type": "code",
   "execution_count": 19,
   "id": "8abec28a",
   "metadata": {},
   "outputs": [],
   "source": [
    "kinetic = (sampled_p*sampled_p)/(2*m)\n",
    "# potential = (m*omega*omega/2)*(sampled_q*sampled_q)\n",
    "potential = (m*omega*omega/2)*(sampled_q*sampled_q) + (r/4)*(sampled_q*sampled_q)*(sampled_q*sampled_q)\n",
    "energy = kinetic + potential"
   ]
  },
  {
   "cell_type": "code",
   "execution_count": 20,
   "id": "9d941417",
   "metadata": {},
   "outputs": [
    {
     "data": {
      "image/png": "[encoded data removed]",
      "text/plain": [
       "<Figure size 640x480 with 1 Axes>"
      ]
     },
     "metadata": {},
     "output_type": "display_data"
    }
   ],
   "source": [
    "# Crea l'istogramma\n",
    "plt.hist(energy, bins=20, density=True, alpha=0.7, color='blue')  # `bins` definisce il numero di bin nell'istogramma\n",
    "\n",
    "# Aggiungi etichette e titolo\n",
    "plt.xlabel('Valori $H(p,q)$')\n",
    "plt.ylabel('Frequenza relativa')\n",
    "plt.title('Istogramma dei Valori di $H(p,q)$')\n",
    "\n",
    "# Mostra il plot\n",
    "plt.show()"
   ]
  },
  {
   "cell_type": "code",
   "execution_count": 21,
   "id": "5c52d144",
   "metadata": {},
   "outputs": [],
   "source": [
    "from multiprocessing import Pool\n",
    "\n",
    "# definisco il numero di step\n",
    "N = 10\n",
    "# definisco la taglia dell'ensemble\n",
    "ensemble_size = len(sampled_q)"
   ]
  },
  {
   "cell_type": "code",
   "execution_count": 22,
   "id": "5f928238",
   "metadata": {},
   "outputs": [],
   "source": [
    "# Funzione per l'avanzamento temporale di una singola realizzazione\n",
    "def evolve_realization(realization):\n",
    "    q_0 = sampled_q[realization]\n",
    "    p_0 = sampled_p[realization]\n",
    "\n",
    "    q_evoluzione = np.empty(N)\n",
    "    p_evoluzione = np.empty(N)\n",
    "    \n",
    "    q_evoluzione[0] = q_0\n",
    "    p_evoluzione[0] = p_0\n",
    "\n",
    "    for i in range(N-1):\n",
    "        q_evoluzione[i+1], p_evoluzione[i+1] = yoshida_4(q_evoluzione[i], p_evoluzione[i])\n",
    "\n",
    "    return q_evoluzione, p_evoluzione"
   ]
  },
  {
   "cell_type": "code",
   "execution_count": null,
   "id": "6dd7c80d",
   "metadata": {},
   "outputs": [],
   "source": [
    "# Numero di processi da utilizzare (può essere ottimizzato in base all'hardware)\n",
    "num_processes = 16\n",
    "\n",
    "if __name__ == \"__main__\":\n",
    "    with Pool(num_processes) as pool:\n",
    "        results = pool.map(evolve_realization, range(ensemble_size))\n",
    "\n",
    "    # Calcola la somma delle evoluzioni di tutte le realizzazioni\n",
    "    q_ensemble = np.sum([result[0] for result in results], axis=0)\n",
    "    p_ensemble = np.sum([result[1] for result in results], axis=0)"
   ]
  },
  {
   "cell_type": "code",
   "execution_count": null,
   "id": "6bce6b70",
   "metadata": {},
   "outputs": [],
   "source": [
    "plt.plot(q_ensemble, p_ensemble)"
   ]
  },
  {
   "cell_type": "code",
   "execution_count": null,
   "id": "fb9f34e6",
   "metadata": {},
   "outputs": [],
   "source": [
    "plt.plot(p_ensemble*p_ensemble + q_ensemble*q_ensemble +  q_ensemble*q_ensemble*q_ensemble*q_ensemble)\n",
    "plt.ylim([0, 0.01])"
   ]
  },
  {
   "cell_type": "code",
   "execution_count": null,
   "id": "7046985f",
   "metadata": {},
   "outputs": [],
   "source": []
  }
 ],
 "metadata": {
  "kernelspec": {
   "display_name": "Python 3 (ipykernel)",
   "language": "python",
   "name": "python3"
  },
  "language_info": {
   "codemirror_mode": {
    "name": "ipython",
    "version": 3
   },
   "file_extension": ".py",
   "mimetype": "text/x-python",
   "name": "python",
   "nbconvert_exporter": "python",
   "pygments_lexer": "ipython3",
   "version": "3.10.9"
  }
 },
 "nbformat": 4,
 "nbformat_minor": 5
}
