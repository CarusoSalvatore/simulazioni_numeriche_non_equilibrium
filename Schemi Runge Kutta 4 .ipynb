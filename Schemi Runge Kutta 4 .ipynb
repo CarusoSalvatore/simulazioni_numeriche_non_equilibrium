{
 "cells": [
  {
   "cell_type": "code",
   "execution_count": null,
   "id": "9ff06639",
   "metadata": {},
   "outputs": [],
   "source": [
    "import numpy as np\n",
    "import random "
   ]
  },
  {
   "cell_type": "code",
   "execution_count": null,
   "id": "f529f241",
   "metadata": {},
   "outputs": [],
   "source": [
    "def oscillatore_armonico_q(q, p, m):\n",
    "    return p/m\n",
    "\n",
    "def oscillatore_armonico_p(q, p, m, omega_0):\n",
    "    return -(m*omega_0*omega_0)*q"
   ]
  },
  {
   "cell_type": "code",
   "execution_count": null,
   "id": "6b12e951",
   "metadata": {},
   "outputs": [],
   "source": [
    "def Runge_Kutta_4(dinamica, tempo, y, step)\n",
    "\n",
    "    # calcolo k_1\n",
    "    k_1 = dinamica(tempo, y)\n",
    "    # calcolo k_2\n",
    "    k_2 = dinamica(tempo + step/2, y + step*k_1/2)\n",
    "    # calcolo k_3\n",
    "    k_3 = dinamica(tempo + step/2, y + step*k_2/2)\n",
    "    # calcolo k_4\n",
    "    k_4 = dinamica(tempo + step, y + step*k_3)\n",
    "\n",
    "    # evoluzione della variabile dinamica\n",
    "    y = y + (step/6)*(k_1 + 2*k_2 + 2*k_3 + k_4)\n",
    "    # avanzamento temporale\n",
    "    tempo = tempo + step\n",
    "    \n",
    "    # ritorno il valore di y\n",
    "    return y"
   ]
  },
  {
   "cell_type": "code",
   "execution_count": null,
   "id": "736540a6",
   "metadata": {},
   "outputs": [],
   "source": [
    "def Runge_Kutta_4_autonomo(dinamica, y, step)\n",
    "\n",
    "    # calcolo k_1\n",
    "    k_1 = dinamica(y)\n",
    "    # calcolo k_2\n",
    "    k_2 = dinamica(y + step*k_1/2)\n",
    "    # calcolo k_3\n",
    "    k_3 = dinamica(y + step*k_2/2)\n",
    "    # calcolo k_4\n",
    "    k_4 = dinamica(y + step*k_3)\n",
    "\n",
    "    # evoluzione della variabile dinamica\n",
    "    y = y + (step/6)*(k_1 + 2*k_2 + 2*k_3 + k_4)\n",
    "    \n",
    "    # ritorno il valore di y\n",
    "    return y"
   ]
  },
  {
   "cell_type": "code",
   "execution_count": null,
   "id": "6a29af8c",
   "metadata": {},
   "outputs": [],
   "source": []
  },
  {
   "cell_type": "code",
   "execution_count": null,
   "id": "140d901c",
   "metadata": {},
   "outputs": [],
   "source": [
    "# definisco lo step\n",
    "step = 0.01\n",
    "# definisco il numero di step\n",
    "N = 10000\n",
    "# definisco la taglia dell'ensemble\n",
    "ensemble_size = 100\n",
    "# serie temporali mediate sulle realizzazioni degli ensemble\n",
    "y_ensemble = np.zeros(N)\n",
    "\n",
    "# esempio utilizzo in una simulazione di ensemble\n",
    "for realizzazione in range(0, ensemble_size):\n",
    "\n",
    "    # definisco le condizioni iniziali\n",
    "    y_0 = random.uniform(0., 1.) # da campionare da una distribuzione\n",
    "    # scelgo y attraverso l'algoritmo di metropolis per campionare l'ensemble canonico\n",
    "\n",
    "    # definisco i vettori che conterranno la serie temporale\n",
    "    y_evoluzione = np.zeros(N)\n",
    "    # sovrascrivo le condizioni iniziali al vettore che contiene l'evoluzione\n",
    "    y_evoluzione[0] = y_0\n",
    "\n",
    "    # definisco l'avanzamento temporale\n",
    "    for i in range(0, N-1):\n",
    "        y_evoluzione[i+1] = Runge_Kutta_4(dinamica, tempo, y_evoluzione[i], step)\n",
    "        \n",
    "    # sommo il vettore dell'i-esima evoluzione al vettore che contiene la dinamica mediata\n",
    "    y_ensemble = y_ensemble + y_evoluzione\n",
    "    \n",
    "# media di ensemble\n",
    "y_ensemble = y_ensemble/ensemble_size"
   ]
  }
 ],
 "metadata": {
  "kernelspec": {
   "display_name": "Python 3 (ipykernel)",
   "language": "python",
   "name": "python3"
  },
  "language_info": {
   "codemirror_mode": {
    "name": "ipython",
    "version": 3
   },
   "file_extension": ".py",
   "mimetype": "text/x-python",
   "name": "python",
   "nbconvert_exporter": "python",
   "pygments_lexer": "ipython3",
   "version": "3.9.13"
  }
 },
 "nbformat": 4,
 "nbformat_minor": 5
}
